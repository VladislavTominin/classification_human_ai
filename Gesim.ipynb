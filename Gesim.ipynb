{
 "cells": [
  {
   "cell_type": "code",
   "execution_count": 1,
   "id": "98eaa615",
   "metadata": {},
   "outputs": [],
   "source": [
    "# ! pip install gensim\n",
    "import gensim\n",
    "import gensim.downloader as api"
   ]
  },
  {
   "cell_type": "code",
   "execution_count": 2,
   "id": "e5472a8b",
   "metadata": {},
   "outputs": [],
   "source": [
    "from human_ai.code.dataset import get_train_dataset,get_test_dataset "
   ]
  },
  {
   "cell_type": "code",
   "execution_count": 3,
   "id": "55d179fe",
   "metadata": {},
   "outputs": [
    {
     "data": {
      "application/vnd.jupyter.widget-view+json": {
       "model_id": "",
       "version_major": 2,
       "version_minor": 0
      },
      "text/plain": [
       "Stringifying the column:   0%|          | 0/4000 [00:00<?, ? examples/s]"
      ]
     },
     "metadata": {},
     "output_type": "display_data"
    },
    {
     "data": {
      "application/vnd.jupyter.widget-view+json": {
       "model_id": "",
       "version_major": 2,
       "version_minor": 0
      },
      "text/plain": [
       "Casting to class labels:   0%|          | 0/4000 [00:00<?, ? examples/s]"
      ]
     },
     "metadata": {},
     "output_type": "display_data"
    }
   ],
   "source": [
    "data = get_train_dataset(test_size=0.15)\n",
    "train_data, test_data = data['train'], data['test']\n",
    "\n",
    "def read_corpus(data, tokens_only=False):\n",
    "        for i, sample in enumerate(data):\n",
    "            tokens = gensim.utils.simple_preprocess(sample['text'])\n",
    "            if tokens_only:\n",
    "                yield tokens\n",
    "            else:\n",
    "                # For training data, add tags\n",
    "                yield gensim.models.doc2vec.TaggedDocument(tokens, [i])\n"
   ]
  },
  {
   "cell_type": "code",
   "execution_count": 4,
   "id": "d05a9d61",
   "metadata": {},
   "outputs": [],
   "source": [
    "train_corpus = list(read_corpus(train_data))\n",
    "test_corpus = list(read_corpus(test_data))"
   ]
  },
  {
   "cell_type": "code",
   "execution_count": 5,
   "id": "9ce61b31",
   "metadata": {},
   "outputs": [],
   "source": [
    "model = gensim.models.doc2vec.Doc2Vec(vector_size=50, min_count=2, epochs=40)"
   ]
  },
  {
   "cell_type": "code",
   "execution_count": 6,
   "id": "d16ae075",
   "metadata": {},
   "outputs": [],
   "source": [
    "model.build_vocab(train_corpus)"
   ]
  },
  {
   "cell_type": "code",
   "execution_count": 7,
   "id": "dcf57a7c",
   "metadata": {},
   "outputs": [
    {
     "name": "stdout",
     "output_type": "stream",
     "text": [
      "Word 'penalty' appeared 32 times in the training corpus.\n"
     ]
    }
   ],
   "source": [
    "print(f\"Word 'penalty' appeared {model.wv.get_vecattr('penalty', 'count')} times in the training corpus.\")"
   ]
  },
  {
   "cell_type": "code",
   "execution_count": 8,
   "id": "0ac50463",
   "metadata": {},
   "outputs": [],
   "source": [
    "model.train(train_corpus, total_examples=model.corpus_count, epochs=model.epochs)"
   ]
  },
  {
   "cell_type": "code",
   "execution_count": 9,
   "id": "3dbc3b24",
   "metadata": {},
   "outputs": [],
   "source": [
    "inferred_vector = model.infer_vector(test_corpus[0].words)"
   ]
  },
  {
   "cell_type": "markdown",
   "id": "6b6b8485",
   "metadata": {},
   "source": [
    "### Predict"
   ]
  },
  {
   "cell_type": "code",
   "execution_count": 10,
   "id": "3bd966c1",
   "metadata": {},
   "outputs": [],
   "source": [
    "import pandas as pd\n",
    "from sklearn.feature_extraction.text import TfidfVectorizer\n",
    "from sklearn.linear_model import LogisticRegression\n",
    "import csv\n",
    "import torch\n",
    "import numpy as np\n",
    "from tqdm import tqdm\n",
    "from sklearn.metrics import classification_report\n",
    "from human_ai.code.evaluate import save_predictions\n",
    "from human_ai.code.dataset import get_train_dataset\n",
    "\n",
    "train_set = data['train']\n",
    "test_set = data['test']"
   ]
  },
  {
   "cell_type": "code",
   "execution_count": 11,
   "id": "292a5f2e",
   "metadata": {},
   "outputs": [],
   "source": [
    "X_train = np.array([model.infer_vector(text.words) for text in train_corpus])"
   ]
  },
  {
   "cell_type": "code",
   "execution_count": 12,
   "id": "2da93e9f",
   "metadata": {},
   "outputs": [],
   "source": [
    "X_test = np.array([model.infer_vector(text.words) for text in test_corpus])"
   ]
  },
  {
   "cell_type": "code",
   "execution_count": 16,
   "id": "0fcec9f9",
   "metadata": {},
   "outputs": [
    {
     "data": {
      "text/plain": [
       "0.5383333333333333"
      ]
     },
     "execution_count": 16,
     "metadata": {},
     "output_type": "execute_result"
    }
   ],
   "source": [
    "from sklearn.metrics import accuracy_score\n",
    "from xgboost import XGBClassifier\n",
    "\n",
    "clf = XGBClassifier()\n",
    "clf.fit(X_train, train_set['label'])\n",
    "predictions = clf.predict(X_test)\n",
    "accuracy_score(test_set['label'], predictions)"
   ]
  },
  {
   "cell_type": "code",
   "execution_count": null,
   "id": "65031d93",
   "metadata": {},
   "outputs": [],
   "source": []
  }
 ],
 "metadata": {
  "kernelspec": {
   "display_name": "Python 3 (ipykernel)",
   "language": "python",
   "name": "python3"
  },
  "language_info": {
   "codemirror_mode": {
    "name": "ipython",
    "version": 3
   },
   "file_extension": ".py",
   "mimetype": "text/x-python",
   "name": "python",
   "nbconvert_exporter": "python",
   "pygments_lexer": "ipython3",
   "version": "3.10.8"
  }
 },
 "nbformat": 4,
 "nbformat_minor": 5
}
